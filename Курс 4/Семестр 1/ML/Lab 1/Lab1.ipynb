{
  "nbformat": 4,
  "nbformat_minor": 0,
  "metadata": {
    "colab": {
      "provenance": []
    },
    "kernelspec": {
      "name": "python3",
      "display_name": "Python 3"
    },
    "language_info": {
      "name": "python"
    }
  },
  "cells": [
    {
      "cell_type": "code",
      "metadata": {
        "id": "e03db840"
      },
      "source": [
        "pip install kagglehub"
      ],
      "execution_count": null,
      "outputs": []
    },
    {
      "cell_type": "code",
      "source": [
        "pip install pandas"
      ],
      "metadata": {
        "id": "ErKVKIgE7nuy"
      },
      "execution_count": null,
      "outputs": []
    },
    {
      "cell_type": "code",
      "source": [
        "import kagglehub\n",
        "\n",
        "path = kagglehub.dataset_download(\"juhibhojani/house-price\")\n",
        "print(\"Path to dataset files:\", path)"
      ],
      "metadata": {
        "id": "zNaLqnEL4JpF"
      },
      "execution_count": null,
      "outputs": []
    },
    {
      "cell_type": "code",
      "source": [
        "import numpy as np\n",
        "import pandas as pd\n",
        "import matplotlib.pyplot as plt\n",
        "import seaborn as sns\n",
        "from sklearn.preprocessing import OrdinalEncoder\n",
        "from scipy import stats\n",
        "import warnings\n",
        "\n",
        "file_path = '/root/.cache/kagglehub/datasets/juhibhojani/house-price/versions/1/house_prices.csv'\n",
        "df = pd.read_csv(file_path)\n",
        "df.head()"
      ],
      "metadata": {
        "id": "7IRuZWQG4Ql3",
        "collapsed": true
      },
      "execution_count": null,
      "outputs": []
    },
    {
      "cell_type": "code",
      "source": [
        "df.info()"
      ],
      "metadata": {
        "id": "7i1rR9p6-CwQ"
      },
      "execution_count": null,
      "outputs": []
    },
    {
      "cell_type": "code",
      "source": [
        "df.describe()"
      ],
      "metadata": {
        "id": "7E06W51P-RYg"
      },
      "execution_count": null,
      "outputs": []
    },
    {
      "cell_type": "code",
      "source": [
        "df.shape"
      ],
      "metadata": {
        "id": "hb8tW9ta-c4n"
      },
      "execution_count": null,
      "outputs": []
    },
    {
      "cell_type": "code",
      "source": [
        "plt.figure(figsize=(12,6))\n",
        "sns.heatmap(df.isnull(), cbar = False, yticklabels = False)\n",
        "plt.title(\"Матрица пропусков\")\n",
        "plt.show()\n",
        "\n",
        "missing_count = df.isnull().sum()\n",
        "missing_ratio = (missing_count / len(df)) * 100\n",
        "\n",
        "missing_table = pd.DataFrame({\n",
        "    'missing_count': missing_count,\n",
        "    'missing_ratio_%': missing_ratio\n",
        "})\n",
        "\n",
        "missing_table = missing_table[missing_table['missing_count'] > 0].sort_values(by='missing_ratio_%', ascending=False)\n",
        "print(missing_table)"
      ],
      "metadata": {
        "id": "eIugH-Dj_B5I"
      },
      "execution_count": null,
      "outputs": []
    },
    {
      "cell_type": "code",
      "source": [
        "numeric_cols = df.select_dtypes(include=np.number).columns\n",
        "\n",
        "fig, axes = plt.subplots(2, 2, figsize=(15, 10))\n",
        "axes = axes.flatten()\n",
        "\n",
        "for i, col in enumerate(numeric_cols):\n",
        "    if i < 4:\n",
        "        axes[i].hist(df[col].dropna(), bins=50, alpha=0.7, color='skyblue', edgecolor='black')\n",
        "        axes[i].set_title(f'Распределение {col}', fontsize=12)\n",
        "        axes[i].set_xlabel(col)\n",
        "        axes[i].set_ylabel('Частота')\n",
        "\n",
        "plt.tight_layout()\n",
        "plt.show()\n",
        "\n",
        "fig, axes = plt.subplots(1, len(numeric_cols), figsize=(15, 5))\n",
        "for i, col in enumerate(numeric_cols):\n",
        "    axes[i].boxplot(df[col].dropna())\n",
        "    axes[i].set_title(f'Boxplot {col}')\n",
        "    axes[i].set_ylabel('Значения')\n",
        "\n",
        "plt.tight_layout()\n",
        "plt.show()\n",
        "\n",
        "stats_df = pd.DataFrame({\n",
        "    'mean': df[numeric_cols].mean(),\n",
        "    'median': df[numeric_cols].median(),\n",
        "    'std': df[numeric_cols].std(),\n",
        "    'skew': df[numeric_cols].skew()\n",
        "})\n",
        "display(stats_df)"
      ],
      "metadata": {
        "collapsed": true,
        "id": "KsoIh7F_CgHQ"
      },
      "execution_count": null,
      "outputs": []
    },
    {
      "cell_type": "code",
      "source": [
        "categorical_cols = df.select_dtypes(include='object').columns\n",
        "\n",
        "reasonable_cats = [col for col in categorical_cols if df[col].nunique() <= 20]\n",
        "\n",
        "fig, axes = plt.subplots(4, 2, figsize=(15, 20))\n",
        "axes = axes.flatten()\n",
        "\n",
        "for i, col in enumerate(reasonable_cats[:8]):  # Первые 8 признаков\n",
        "    value_counts = df[col].value_counts().head(10)  # Топ-10 категорий\n",
        "    axes[i].bar(value_counts.index.astype(str), value_counts.values)\n",
        "    axes[i].set_title(f'Распределение {col}', fontsize=12)\n",
        "    axes[i].tick_params(axis='x', rotation=45)\n",
        "    axes[i].set_ylabel('Количество')\n",
        "\n",
        "plt.tight_layout()\n",
        "plt.show()\n",
        "\n",
        "print(\"\\nКоличество уникальных категорий:\")\n",
        "print(\"-\" * 35)\n",
        "for col in categorical_cols:\n",
        "    unique_count = df[col].nunique()\n",
        "    print(f\"{col}: {unique_count} уникальных значений\")"
      ],
      "metadata": {
        "collapsed": true,
        "id": "i3IJNHmUFccY"
      },
      "execution_count": null,
      "outputs": []
    },
    {
      "cell_type": "code",
      "source": [
        "correlation_matrix = df[numeric_cols].corr()\n",
        "plt.figure(figsize=(8, 6))\n",
        "sns.heatmap(correlation_matrix, annot=True, cmap='coolwarm', center=0)\n",
        "plt.title('Матрица корреляций числовых признаков', fontsize=16)\n",
        "plt.show()\n",
        "\n",
        "plt.figure(figsize=(10, 6))\n",
        "plt.scatter(df['Index'], df['Price (in rupees)'], alpha=0.5)\n",
        "plt.title('Зависимость цены от индекса')\n",
        "plt.xlabel('Index')\n",
        "plt.ylabel('Price (in rupees)')\n",
        "plt.show()\n",
        "\n",
        "cat_for_analysis = [col for col in reasonable_cats if df[col].nunique() <= 5][:3]\n",
        "\n",
        "fig, axes = plt.subplots(1, len(cat_for_analysis), figsize=(18, 6))\n",
        "for i, col in enumerate(cat_for_analysis):\n",
        "    sns.boxplot(x=df[col], y=df['Price (in rupees)'], ax=axes[i])\n",
        "    axes[i].set_title(f'Цена по {col}')\n",
        "    axes[i].tick_params(axis='x', rotation=45)\n",
        "\n",
        "plt.tight_layout()\n",
        "plt.show()"
      ],
      "metadata": {
        "id": "ZAOlRHnEGVVa"
      },
      "execution_count": null,
      "outputs": []
    },
    {
      "cell_type": "code",
      "source": [
        "print(\"ИСХОДНЫЕ НАЗВАНИЯ СТОЛБЦОВ:\")\n",
        "print(df.columns.tolist())\n",
        "print()\n",
        "\n",
        "df.columns = df.columns.str.lower().str.replace(' ', '_').str.replace('(', '').str.replace(')', '')\n",
        "print(\"НОВЫЕ НАЗВАНИЯ СТОЛБЦОВ (после очистки):\")\n",
        "print(df.columns.tolist())\n",
        "print(\"\\n\" + \"=\"*80)\n",
        "\n",
        "print(\"АНАЛИЗ ПРОПУСКОВ ДО ОБРАБОТКИ:\")\n",
        "missing_before = df.isnull().sum()\n",
        "print(missing_before[missing_before > 0])\n",
        "print()\n",
        "\n",
        "empty_columns = []\n",
        "for col in df.columns:\n",
        "    if df[col].isnull().sum() == len(df):\n",
        "        empty_columns.append(col)\n",
        "        print(f\"Обнаружен полностью пустой столбец: {col}\")\n",
        "\n",
        "if empty_columns:\n",
        "    print(f\"УДАЛЯЕМ ПОЛНОСТЬЮ ПУСТЫЕ СТОЛБЦЫ: {empty_columns}\")\n",
        "    df = df.drop(empty_columns, axis=1)\n",
        "    print(f\"Размерность после удаления пустых столбцов: {df.shape}\")\n",
        "else:\n",
        "    print(\"Полностью пустых столбцов не обнаружено\")\n",
        "print()\n",
        "\n",
        "numeric_cols_updated = df.select_dtypes(include=[np.number]).columns.tolist()\n",
        "print(\"ЧИСЛОВЫЕ ПРИЗНАКИ ДЛЯ ЗАПОЛНЕНИЯ МЕДИАНОЙ:\")\n",
        "for col in numeric_cols_updated:\n",
        "    missing_count = df[col].isnull().sum()\n",
        "    if missing_count > 0:\n",
        "        median_val = df[col].median()\n",
        "        print(f\"  {col}: {missing_count} пропусков → заполняем медианой ({median_val:.2f})\")\n",
        "        df[col] = df[col].fillna(median_val)\n",
        "    else:\n",
        "        print(f\"  {col}: пропусков нет\")\n",
        "print()\n",
        "\n",
        "categorical_cols_updated = df.select_dtypes(include=['object']).columns.tolist()\n",
        "print(\"КАТЕГОРИАЛЬНЫЕ ПРИЗНАКИ ДЛЯ ЗАПОЛНЕНИЯ МОДОЙ:\")\n",
        "for col in categorical_cols_updated:\n",
        "    missing_count = df[col].isnull().sum()\n",
        "    if missing_count > 0:\n",
        "        mode_val = df[col].mode()[0] if not df[col].mode().empty else 'Unknown'\n",
        "        print(f\"  {col}: {missing_count} пропусков → заполняем модой ('{mode_val}')\")\n",
        "        df[col] = df[col].fillna(mode_val)\n",
        "    else:\n",
        "        print(f\"  {col}: пропусков нет\")\n",
        "print()\n",
        "\n",
        "print(\"ПРОВЕРКА ПОСЛЕ ЗАПОЛНЕНИЯ ПРОПУСКОВ:\")\n",
        "missing_after = df.isnull().sum()\n",
        "remaining_missing = missing_after[missing_after > 0]\n",
        "if len(remaining_missing) > 0:\n",
        "    print(\"Осталось пропусков:\")\n",
        "    print(remaining_missing)\n",
        "else:\n",
        "    print(\"Все пропуски успешно заполнены!\")\n",
        "print(\"\\n\" + \"=\"*80)"
      ],
      "metadata": {
        "id": "6d7bMEg9GtWX"
      },
      "execution_count": null,
      "outputs": []
    },
    {
      "cell_type": "code",
      "source": [
        "price_data = df['price_in_rupees'].dropna()\n",
        "\n",
        "plt.figure(figsize=(12, 5))\n",
        "plt.subplot(1, 2, 1)\n",
        "plt.boxplot(price_data)\n",
        "plt.title('Boxplot цены до обработки')\n",
        "\n",
        "price_log = np.log1p(price_data)\n",
        "\n",
        "plt.subplot(1, 2, 2)\n",
        "plt.boxplot(price_log)\n",
        "plt.title('Boxplot цены после логарифмирования')\n",
        "plt.tight_layout()\n",
        "plt.show()\n",
        "\n",
        "Q1 = price_data.quantile(0.25)\n",
        "Q3 = price_data.quantile(0.75)\n",
        "IQR = Q3 - Q1\n",
        "lower_bound = Q1 - 1.5 * IQR\n",
        "upper_bound = Q3 + 1.5 * IQR\n",
        "\n",
        "price_trimmed = price_data[(price_data >= lower_bound) & (price_data <= upper_bound)]\n",
        "\n",
        "print(f\"До обработки: {len(price_data)} записей\")\n",
        "print(f\"После IQR обрезки: {len(price_trimmed)} записей\")\n",
        "print(f\"Удалено выбросов: {len(price_data) - len(price_trimmed)}\")\n",
        "\n",
        "fig, axes = plt.subplots(1, 3, figsize=(18, 5))\n",
        "axes[0].hist(price_data, bins=50, alpha=0.7, color='blue')\n",
        "axes[0].set_title('Исходное распределение')\n",
        "axes[0].set_xlabel('Цена')\n",
        "\n",
        "axes[1].hist(price_log, bins=50, alpha=0.7, color='green')\n",
        "axes[1].set_title('После логарифмирования')\n",
        "axes[1].set_xlabel('log(Цена)')\n",
        "\n",
        "axes[2].hist(price_trimmed, bins=50, alpha=0.7, color='red')\n",
        "axes[2].set_title('После IQR обрезки')\n",
        "axes[2].set_xlabel('Цена')\n",
        "\n",
        "plt.tight_layout()\n",
        "plt.show()"
      ],
      "metadata": {
        "id": "XMOSAMl2Iatt"
      },
      "execution_count": null,
      "outputs": []
    }
  ]
}